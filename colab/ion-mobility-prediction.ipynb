{
 "cells": [
  {
   "cell_type": "code",
   "execution_count": null,
   "metadata": {
    "executionInfo": {
     "elapsed": 49786,
     "status": "ok",
     "timestamp": 1685244106193,
     "user": {
      "displayName": "Will Fondrie",
      "userId": "00004301715304315122"
     },
     "user_tz": 420
    },
    "id": "NCj-fMscvwej"
   },
   "outputs": [],
   "source": [
    "%%capture\n",
    "%%bash\n",
    "pip install lightning vizta tensorboard git+https://github.com/wfondrie/depthcharge.git@asms \n",
    "wget -nc https://github.com/theislab/DeepCollisionalCrossSection/raw/master/data/combined_sm.csv.tar.gz\n",
    "tar -xzvf combined_sm.csv.tar.gz"
   ]
  },
  {
   "cell_type": "code",
   "execution_count": null,
   "metadata": {
    "colab": {
     "base_uri": "https://localhost:8080/"
    },
    "executionInfo": {
     "elapsed": 13957,
     "status": "ok",
     "timestamp": 1685244120139,
     "user": {
      "displayName": "Will Fondrie",
      "userId": "00004301715304315122"
     },
     "user_tz": 420
    },
    "id": "-N6rbVrnwVNL",
    "outputId": "db2fa7eb-90ad-4f2d-c63b-bf6634ec4b57"
   },
   "outputs": [],
   "source": [
    "import os\n",
    "\n",
    "import lightning.pytorch as pl\n",
    "import matplotlib.pyplot as plt\n",
    "import numpy as np\n",
    "import pandas as pd\n",
    "import seaborn as sns\n",
    "import torch\n",
    "from lightning.pytorch.callbacks.early_stopping import EarlyStopping\n",
    "from sklearn.preprocessing import StandardScaler\n",
    "\n",
    "from depthcharge.data import PeptideDataset\n",
    "from depthcharge.feedforward import FeedForward\n",
    "from depthcharge.tokenizers import PeptideTokenizer\n",
    "from depthcharge.transformers import PeptideTransformerEncoder\n",
    "\n",
    "# Set our plotting theme:\n",
    "sns.set_style(\"ticks\")\n",
    "\n",
    "# Set random seeds\n",
    "pl.seed_everything(42, workers=True)"
   ]
  },
  {
   "cell_type": "code",
   "execution_count": null,
   "metadata": {
    "colab": {
     "base_uri": "https://localhost:8080/"
    },
    "executionInfo": {
     "elapsed": 4877,
     "status": "ok",
     "timestamp": 1685244125011,
     "user": {
      "displayName": "Will Fondrie",
      "userId": "00004301715304315122"
     },
     "user_tz": 420
    },
    "id": "u8azBgm55Aln",
    "outputId": "98a3f0e4-f701-4bf0-affb-cd969871c5d4"
   },
   "outputs": [],
   "source": [
    "data = (\n",
    "    pd.read_csv(\"combined_sm.csv\", index_col=0)\n",
    "    .sample(frac=1)\n",
    "    .reset_index()\n",
    "    .rename(columns={\"Modified sequence\": \"Seq\"})\n",
    ")\n",
    "\n",
    "# Convert sequences to ProForma compliant:\n",
    "data[\"Seq\"] = (\n",
    "    data[\"Seq\"]\n",
    "    .str.replace(\"_(ac)\", \"[Acetyl]-\", regex=False)\n",
    "    .str.replace(\"M(ox)\", \"M[Oxidation]\", regex=False)\n",
    "    .str.replace(\"_\", \"\", regex=False)\n",
    ")\n",
    "\n",
    "# Verify we've accounted for all modifica†ions:\n",
    "assert not data[\"Seq\"].str.contains(\"(\", regex=False).sum()\n",
    "\n",
    "# Split the data:\n",
    "test_df = data.loc[data[\"PT\"], :]\n",
    "data_df = data.loc[~data[\"PT\"], :]\n",
    "\n",
    "n_train = int(0.9 * len(data_df))\n",
    "train_df = data_df.iloc[:n_train, :].copy()\n",
    "validation_df = data_df.iloc[n_train:, :].copy()\n",
    "\n",
    "# Print the number in each set: \n",
    "print(\"Test peptides:                 \", len(test_df[\"Seq\"].unique()))\n",
    "print(\"Training + Validation peptides:\", len(data_df[\"Seq\"].unique()))"
   ]
  },
  {
   "cell_type": "code",
   "execution_count": null,
   "metadata": {
    "colab": {
     "base_uri": "https://localhost:8080/",
     "height": 739
    },
    "executionInfo": {
     "elapsed": 27742,
     "status": "ok",
     "timestamp": 1685244152749,
     "user": {
      "displayName": "Will Fondrie",
      "userId": "00004301715304315122"
     },
     "user_tz": 420
    },
    "id": "J1l3KylpVdsG",
    "outputId": "da595c55-8c3f-4e54-b576-d1a89498636c"
   },
   "outputs": [],
   "source": [
    "tokenizer = PeptideTokenizer.from_proforma(\n",
    "    sequences=validation_df[\"Seq\"], \n",
    "    replace_isoleucine_with_leucine=False, \n",
    "    reverse=False,\n",
    ")\n",
    "\n",
    "pd.DataFrame(tokenizer.residues.items(), columns=[\"Token\", \"Mass\"])"
   ]
  },
  {
   "cell_type": "code",
   "execution_count": null,
   "metadata": {
    "executionInfo": {
     "elapsed": 101836,
     "status": "ok",
     "timestamp": 1685244904174,
     "user": {
      "displayName": "Will Fondrie",
      "userId": "00004301715304315122"
     },
     "user_tz": 420
    },
    "id": "b69y-jG2J61i"
   },
   "outputs": [],
   "source": [
    "scaler = StandardScaler()\n",
    "train_dataset = PeptideDataset(\n",
    "    tokenizer,\n",
    "    train_df[\"Seq\"].to_numpy(), \n",
    "    torch.tensor(train_df[\"Charge\"].to_numpy()),\n",
    "    torch.tensor(scaler.fit_transform(train_df[[\"CCS\"]]).flatten()),\n",
    ")\n",
    "\n",
    "\n",
    "validation_dataset = PeptideDataset(\n",
    "    tokenizer,\n",
    "    validation_df[\"Seq\"].to_numpy(),\n",
    "    torch.tensor(validation_df[\"Charge\"].to_numpy()),\n",
    "    torch.tensor(scaler.transform(validation_df[[\"CCS\"]]).flatten()),\n",
    ")\n",
    "\n",
    "test_dataset = PeptideDataset(\n",
    "    tokenizer,\n",
    "    test_df[\"Seq\"].to_numpy(),\n",
    "    torch.tensor(test_df[\"Charge\"].to_numpy()),\n",
    ")\n",
    "\n",
    "# This data is small so they can all live on the GPU:\n",
    "for dset in (train_dataset, validation_dataset, test_dataset):\n",
    "    tensors = []\n",
    "    for data in dset.tensors:\n",
    "        tensors.append(data.to(\"cuda\"))\n",
    "\n",
    "    dset.tensors = tuple(tensors)\n",
    "\n",
    "# Data loaders:\n",
    "train_loader = train_dataset.loader(batch_size=128, shuffle=True)\n",
    "validation_loader = validation_dataset.loader(batch_size=1024)\n",
    "test_loader = test_dataset.loader(batch_size=1024)"
   ]
  },
  {
   "cell_type": "code",
   "execution_count": null,
   "metadata": {
    "executionInfo": {
     "elapsed": 389,
     "status": "ok",
     "timestamp": 1685244921935,
     "user": {
      "displayName": "Will Fondrie",
      "userId": "00004301715304315122"
     },
     "user_tz": 420
    },
    "id": "9XepQ0TPErkY"
   },
   "outputs": [],
   "source": [
    "class CCSPredictor(pl.LightningModule):\n",
    "    \"\"\"A Transformer model for CCS prediction\"\"\"\n",
    "    def __init__(self, tokenizer, d_model, n_layers):\n",
    "        \"\"\"Initialize the CCSPredictor\"\"\"\n",
    "        super().__init__()\n",
    "        self.peptide_encoder = PeptideTransformerEncoder(\n",
    "            n_tokens=tokenizer,\n",
    "            d_model=d_model,\n",
    "            n_layers=n_layers,\n",
    "        )\n",
    "        self.ccs_head = FeedForward(d_model, 1, 3)\n",
    "\n",
    "    def step(self, batch, batch_idx):\n",
    "        \"\"\"A training/validation/inference step.\"\"\"\n",
    "        seqs, charges, ccs = batch\n",
    "        try:\n",
    "            embedded, _ = self.peptide_encoder(seqs, charges)\n",
    "        except IndexError as err:\n",
    "            print(batch)\n",
    "            raise err\n",
    "\n",
    "        pred = self.ccs_head(embedded[:, 0, :]).flatten()\n",
    "        if ccs is not None:\n",
    "            ccs = ccs.type_as(pred)\n",
    "            loss = torch.nn.functional.mse_loss(pred, ccs)\n",
    "        else:\n",
    "            loss = None\n",
    "\n",
    "        return pred, loss\n",
    "\n",
    "    def training_step(self, batch, batch_idx):\n",
    "        \"\"\"A training step\"\"\"\n",
    "        _, loss = self.step(batch, batch_idx)\n",
    "        self.log(\"train_loss\", loss, on_step=True, on_epoch=True, prog_bar=True)\n",
    "        return loss\n",
    "\n",
    "    def validation_step(self, batch, batch_idx):\n",
    "        \"\"\"A validation step\"\"\"\n",
    "        _, loss = self.step(batch, batch_idx)\n",
    "        self.log(\"validation_loss\", loss, on_step=False, on_epoch=True, prog_bar=True)\n",
    "        return loss\n",
    "\n",
    "    def predict_step(self, batch, batch_idx):\n",
    "        \"\"\"An inference step\"\"\"\n",
    "        pred, _ = self.step(batch, batch_idx)\n",
    "        return pred\n",
    "\n",
    "    def configure_optimizers(self):\n",
    "        \"\"\"Configure the optimizer for training.\"\"\"\n",
    "        optimizer = torch.optim.Adam(self.parameters(), lr=1e-4)\n",
    "        return optimizer"
   ]
  },
  {
   "cell_type": "code",
   "execution_count": null,
   "metadata": {
    "colab": {
     "background_save": true
    },
    "id": "QED9S2nEWluw"
   },
   "outputs": [],
   "source": [
    "%reload_ext tensorboard\n",
    "%tensorboard --logdir=lightning_logs/"
   ]
  },
  {
   "cell_type": "code",
   "execution_count": null,
   "metadata": {
    "colab": {
     "base_uri": "https://localhost:8080/",
     "height": 570
    },
    "id": "TYcxB_F9UKGY",
    "outputId": "8de4a1f0-74fa-434b-d5ab-ac409be39658"
   },
   "outputs": [],
   "source": [
    "# Create a model:\n",
    "model = CCSPredictor(tokenizer, d_model=64, n_layers=4)\n",
    "comp_model = torch.compile(model)\n",
    "\n",
    "early_stopping = EarlyStopping(monitor=\"validation_loss\", patience=5)\n",
    "trainer = pl.Trainer(callbacks=[early_stopping], max_epochs=50)\n",
    "trainer.fit(\n",
    "    model=model, \n",
    "    train_dataloaders=train_loader, \n",
    "    val_dataloaders=validation_loader,\n",
    ")"
   ]
  },
  {
   "cell_type": "code",
   "execution_count": null,
   "metadata": {
    "id": "k_2PrF_QffZG"
   },
   "outputs": [],
   "source": [
    "pred = trainer.predict(model, validation_loader)\n",
    "validation_df = validation_df.copy()\n",
    "validation_df[\"pred\"] = scaler.inverse_transform(\n",
    "    torch.cat(pred).detach().cpu().numpy()[:, None]\n",
    ").flatten()\n",
    "\n",
    "plt.figure()\n",
    "plt.scatter(validation_df[\"CCS\"], validation_df[\"pred\"], s=1)\n",
    "plt.xlabel(\"Measured CCS\")\n",
    "plt.ylabel(\"Predicted CCS\")\n",
    "plt.show()"
   ]
  },
  {
   "cell_type": "code",
   "execution_count": null,
   "metadata": {
    "id": "yfeh5VjE3Trz"
   },
   "outputs": [],
   "source": [
    "err = (validation_df[\"CCS\"] - validation_df[\"pred\"])\n",
    "rel_err = err / validation_df[\"CCS\"]\n",
    "\n",
    "fig, axs = plt.subplots(1, 2, figsize=(9, 4))\n",
    "\n",
    "ax = axs[0]\n",
    "sns.histplot(rel_err, ax=ax)\n",
    "ax.set_xlabel(\"Relative Error\")\n",
    "ax.set_ylabel(\"Number of Peptides\")\n",
    "\n",
    "ax = axs[1]\n",
    "sns.histplot(err, ax=ax)\n",
    "ax.set_xlabel(\"Absolute Error\")\n",
    "ax.set_ylabel(\"Number of Peptides\")\n",
    "\n",
    "plt.tight_layout()\n",
    "plt.show()"
   ]
  },
  {
   "cell_type": "code",
   "execution_count": null,
   "metadata": {
    "executionInfo": {
     "elapsed": 8,
     "status": "aborted",
     "timestamp": 1685244217055,
     "user": {
      "displayName": "Will Fondrie",
      "userId": "00004301715304315122"
     },
     "user_tz": 420
    },
    "id": "Vo6-0ropJrAT"
   },
   "outputs": [],
   "source": [
    "trainer = pl.Trainer()\n",
    "pred = trainer.predict(model, test_loader)\n",
    "\n",
    "test_df = test_df.copy()\n",
    "test_df[\"pred\"] = scaler.inverse_transform(\n",
    "    torch.cat(pred).detach().cpu().numpy()[:, None]\n",
    ").flatten()\n",
    "\n",
    "test_df.to_parquet(\"predictions.parquet\")\n",
    "\n",
    "plt.figure()\n",
    "plt.scatter(test_df[\"CCS\"], test_df[\"pred\"], s=1)\n",
    "plt.xlabel(\"Measured CCS\")\n",
    "plt.ylabel(\"Predicted CCS\")\n",
    "plt.show()"
   ]
  },
  {
   "cell_type": "code",
   "execution_count": null,
   "metadata": {
    "executionInfo": {
     "elapsed": 9,
     "status": "aborted",
     "timestamp": 1685244217056,
     "user": {
      "displayName": "Will Fondrie",
      "userId": "00004301715304315122"
     },
     "user_tz": 420
    },
    "id": "lbFfesGNJ2_U"
   },
   "outputs": [],
   "source": [
    "err = (test_df[\"CCS\"] - test_df[\"pred\"])\n",
    "rel_err = err / test_df[\"CCS\"]\n",
    "\n",
    "fig, axs = plt.subplots(1, 2, figsize=(9, 4))\n",
    "\n",
    "ax = axs[0]\n",
    "sns.histplot(rel_err, ax=ax)\n",
    "ax.set_xlabel(\"Relative Error\")\n",
    "ax.set_ylabel(\"Number of Peptides\")\n",
    "\n",
    "ax = axs[1]\n",
    "sns.histplot(err, ax=ax)\n",
    "ax.set_xlabel(\"Absolute Error\")\n",
    "ax.set_ylabel(\"Number of Peptides\")\n",
    "\n",
    "plt.tight_layout()\n",
    "plt.show()"
   ]
  }
 ],
 "metadata": {
  "accelerator": "GPU",
  "colab": {
   "authorship_tag": "ABX9TyOxLeq7ylWLebQkVHKS/qmC",
   "name": "",
   "version": ""
  },
  "kernelspec": {
   "display_name": "Python 3",
   "name": "python3"
  },
  "language_info": {
   "name": "python"
  }
 },
 "nbformat": 4,
 "nbformat_minor": 0
}
